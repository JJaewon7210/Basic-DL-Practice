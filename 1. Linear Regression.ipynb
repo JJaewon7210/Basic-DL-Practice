{
 "cells": [
  {
   "cell_type": "code",
   "execution_count": 60,
   "metadata": {},
   "outputs": [],
   "source": [
    "# This code was written with the power of the chat GPT.\n"
   ]
  },
  {
   "cell_type": "code",
   "execution_count": 61,
   "metadata": {},
   "outputs": [
    {
     "name": "stdout",
     "output_type": "stream",
     "text": [
      "Shape of inputs(X):  (200, 5)\n",
      "Shape of targets(y):  (200,)\n"
     ]
    }
   ],
   "source": [
    "# 1. Generate 200 pairs of training data (x, y) for linear regression.\n",
    "import numpy as np\n",
    "\n",
    "# Generate 200 random x vectors with five dimensions each\n",
    "X = np.random.rand(200, 5)\n",
    "\n",
    "# Generate corresponding y values using a linear combination of the x values with some random noise added\n",
    "# y = a + 2*x0 + 3*x1 + 4*x2 + 1*x3 + 1*x4\n",
    "y = np.random.rand(200) + np.dot(X, np.array([2, 3, 4, 1, 1]))\n",
    "\n",
    "print('Shape of inputs(X): ', X.shape)\n",
    "print('Shape of targets(y): ', y.shape)"
   ]
  },
  {
   "cell_type": "code",
   "execution_count": 62,
   "metadata": {},
   "outputs": [],
   "source": [
    "# 2. Define a function to calculate a cost value for a given parameter set of a linear regression model.\n",
    "def compute_cost(X, y, theta):\n",
    "    \"\"\"\n",
    "    Compute the cost function for linear regression.\n",
    "\n",
    "    Arguments:\n",
    "    X -- input data matrix of shape (m, n+1) where m is the number of training examples and n is the number of features\n",
    "    y -- target values of shape (m,)\n",
    "    theta -- parameter vector of shape (n+1,)\n",
    "\n",
    "    Returns:\n",
    "    J -- the cost value\n",
    "    \"\"\"\n",
    "    m = len(y)  # number of training examples\n",
    "\n",
    "    # Compute predictions for all training examples\n",
    "    predictions = np.dot(X, theta)\n",
    "\n",
    "    # Compute the mean squared error\n",
    "    J = np.sum((predictions - y)**2) / (2*m)\n",
    "\n",
    "    return J"
   ]
  },
  {
   "cell_type": "code",
   "execution_count": 63,
   "metadata": {},
   "outputs": [],
   "source": [
    "# 3. Define a function for a gradient descent algorithm.\n",
    "def gradient_descent(X, y, theta, alpha, num_iters):\n",
    "    \"\"\"\n",
    "    Perform gradient descent to learn the optimal parameter vector theta for linear regression.\n",
    "\n",
    "    Arguments:\n",
    "    X -- input data matrix of shape (m, n+1) where m is the number of training examples and n is the number of features\n",
    "    y -- target values of shape (m,)\n",
    "    theta -- initial parameter vector of shape (n+1,)\n",
    "    alpha -- learning rate\n",
    "    num_iters -- number of iterations\n",
    "\n",
    "    Returns:\n",
    "    theta -- the optimal parameter vector\n",
    "    J_history -- a list of the cost values after each iteration\n",
    "    \"\"\"\n",
    "    m = len(y)  # number of training examples\n",
    "    J_history = []  # list to store the cost values after each iteration\n",
    "\n",
    "    for i in range(num_iters):\n",
    "        # Compute predictions for all training examples\n",
    "        predictions = np.dot(X, theta)\n",
    "\n",
    "        # Compute the error between the predictions and the target values\n",
    "        errors = predictions - y\n",
    "\n",
    "        # Compute the gradient of the cost function\n",
    "        gradient = np.dot(X.T, errors) / m\n",
    "\n",
    "        # Update the parameter vector\n",
    "        theta = theta - alpha * gradient\n",
    "\n",
    "        # Compute the cost value and append it to the history\n",
    "        J_history.append(compute_cost(X, y, theta))\n",
    "\n",
    "    return theta, J_history\n"
   ]
  },
  {
   "cell_type": "code",
   "execution_count": 64,
   "metadata": {},
   "outputs": [],
   "source": [
    "# 4. Scale the input features to have a similar range.\n",
    "def scale_features(X):\n",
    "    \"\"\"\n",
    "    Scales the input features to have a mean of 0 and a standard deviation of 1.\n",
    "    \n",
    "    Arguments:\n",
    "    X -- input data matrix of shape (m, n+1) where m is the number of training examples and n is the number of features\n",
    "    \n",
    "    Returns:\n",
    "    X -- scaled data matrix of shape (m, n+1)\n",
    "    mu -- mean of input features\n",
    "    sigma -- standard deviation of input features\n",
    "    \"\"\"\n",
    "    mu = np.mean(X, axis=0)\n",
    "    sigma = np.std(X, axis=0)\n",
    "    X_scaled = (X-mu)/sigma\n",
    "    \n",
    "    return X_scaled, mu, sigma"
   ]
  },
  {
   "cell_type": "code",
   "execution_count": 65,
   "metadata": {},
   "outputs": [
    {
     "name": "stdout",
     "output_type": "stream",
     "text": [
      "[0.59324876 1.90639418 3.07090884 3.94933685 1.05666185 0.88991413]\n"
     ]
    }
   ],
   "source": [
    "# 5. Initialize the parameter set of the linear regression model. Update the parameters using the gradient descent algorithm. Find proper values for the number of iterations and a learning rate for the model.\n",
    "\n",
    "# Define the hyperparameters\n",
    "num_iters = 1000\n",
    "learning_rate = 0.01\n",
    "\n",
    "# Define the initial parameter vector of shape (6, )\n",
    "theta_scaled = np.zeros(6)\n",
    "\n",
    "# Scaling the X value\n",
    "X_scaled, mu, sigma = scale_features(X)\n",
    "\n",
    "# Add a column of ones to X for the bias term\n",
    "X_scaled = np.hstack((np.ones((200, 1)), X_scaled))\n",
    "\n",
    "# Run gradient_descent\n",
    "theta_scaled, J_history = gradient_descent(X_scaled, y, theta_scaled, learning_rate, num_iters)\n",
    "\n",
    "# Apply inverse scaling to the learned parameters\n",
    "theta = np.zeros(6)\n",
    "theta[0] = theta_scaled[0] - np.sum(theta_scaled[1:] * mu / sigma)\n",
    "theta[1:] = theta_scaled[1:] / sigma\n",
    "print(theta)"
   ]
  },
  {
   "cell_type": "code",
   "execution_count": 66,
   "metadata": {},
   "outputs": [
    {
     "name": "stdout",
     "output_type": "stream",
     "text": [
      "Initial cost: 18.95051964203624\n",
      "Final cost: 0.0407438329389199\n"
     ]
    },
    {
     "data": {
      "image/png": "[encoded data removed]",
      "text/plain": [
       "<Figure size 432x288 with 1 Axes>"
      ]
     },
     "metadata": {
      "needs_background": "light"
     },
     "output_type": "display_data"
    }
   ],
   "source": [
    "# 6. Report the initial cost value and the final cost value. Plot the loss curve over iterations.\n",
    "%matplotlib inline\n",
    "import matplotlib.pyplot as plt\n",
    "\n",
    "# Compute initial and final cost values\n",
    "initial_cost = J_history[0]\n",
    "final_cost = J_history[-1]\n",
    "\n",
    "print(f\"Initial cost: {initial_cost}\")\n",
    "print(f\"Final cost: {final_cost}\")\n",
    "\n",
    "# Plot loss curve over iterations\n",
    "plt.plot(range(num_iters), J_history)\n",
    "plt.xlabel(\"Iteration\")\n",
    "plt.ylabel(\"Cost\")\n",
    "plt.title(\"Loss Curve\")\n",
    "plt.show()\n"
   ]
  },
  {
   "cell_type": "code",
   "execution_count": 67,
   "metadata": {},
   "outputs": [
    {
     "name": "stdout",
     "output_type": "stream",
     "text": [
      "R2 value: 0.9733702223472701\n"
     ]
    },
    {
     "data": {
      "image/png": "[encoded data removed]",
      "text/plain": [
       "<Figure size 432x288 with 1 Axes>"
      ]
     },
     "metadata": {
      "needs_background": "light"
     },
     "output_type": "display_data"
    }
   ],
   "source": [
    "# 7. Calculate the R2 value. Visualize the obtained linear model on the training data set. You can visualize a graph with predicted values and ground truth target values.\n",
    "\n",
    "# Calculate R2 value\n",
    "X = np.hstack((np.ones((200, 1)), X))\n",
    "y_pred = np.dot(X, theta)\n",
    "y_mean = np.mean(y)\n",
    "ss_tot = np.sum((y - y_mean) ** 2)\n",
    "ss_res = np.sum((y - y_pred) ** 2)\n",
    "r2 = 1 - (ss_res / ss_tot)\n",
    "print(f\"R2 value: {r2}\")\n",
    "\n",
    "# Visualize linear model on training data set\n",
    "plt.scatter(y, y_pred)\n",
    "plt.plot([y.min(), y.max()], [y.min(), y.max()], 'k--', lw=3)\n",
    "plt.xlabel('Measured')\n",
    "plt.ylabel('Predicted')\n",
    "plt.show()\n"
   ]
  },
  {
   "cell_type": "code",
   "execution_count": 68,
   "metadata": {},
   "outputs": [
    {
     "name": "stdout",
     "output_type": "stream",
     "text": [
      "Parameter vector using gradient descent:  [0.59324876 1.90639418 3.07090884 3.94933685 1.05666185 0.88991413]\n",
      "Parameter vector using normal equation:  [0.59339813 1.90630547 3.07075044 3.94959257 1.05674218 0.89004158]\n"
     ]
    }
   ],
   "source": [
    "# 8. Apply a normal equation for linear regression. Compare the parameters with the previous results.\n",
    "\n",
    "# Calculate the parameter vector using the normal equation\n",
    "XTX = np.dot(X.T, X)\n",
    "XTX_inverse = np.linalg.inv(XTX)\n",
    "\n",
    "theta_ne = np.dot(np.dot(XTX_inverse, X.T), y)\n",
    "\n",
    "print(\"Parameter vector using gradient descent: \", theta)\n",
    "print(\"Parameter vector using normal equation: \", theta_ne)"
   ]
  },
  {
   "cell_type": "code",
   "execution_count": null,
   "metadata": {},
   "outputs": [],
   "source": [
    "# 9. Discuss the results in terms of Accuracy and Validity.\n",
    "\n",
    "# Mean Squared Error (MSE)\n",
    "mse = np.mean((y - y_pred) ** 2)\n",
    "print(f\"Mean squared error: {mse}\")\n"
   ]
  }
 ],
 "metadata": {
  "kernelspec": {
   "display_name": "base",
   "language": "python",
   "name": "python3"
  },
  "language_info": {
   "codemirror_mode": {
    "name": "ipython",
    "version": 3
   },
   "file_extension": ".py",
   "mimetype": "text/x-python",
   "name": "python",
   "nbconvert_exporter": "python",
   "pygments_lexer": "ipython3",
   "version": "3.7.10"
  },
  "orig_nbformat": 4
 },
 "nbformat": 4,
 "nbformat_minor": 2
}
