{
 "cells": [
  {
   "cell_type": "code",
   "execution_count": 1,
   "metadata": {},
   "outputs": [],
   "source": [
    "# This code was written with the power of the chat GPT.\n"
   ]
  },
  {
   "cell_type": "code",
   "execution_count": 2,
   "metadata": {},
   "outputs": [
    {
     "name": "stdout",
     "output_type": "stream",
     "text": [
      "Number of samples in the training set:  60\n",
      "Number of samples in the test set:  20\n"
     ]
    }
   ],
   "source": [
    "# (1) Separate P2_data.txt into a training set (75% of all samples) and a test set (25% of all samples)\n",
    "import random\n",
    "import pandas as pd\n",
    "\n",
    "# Load the data into a Pandas DataFrame\n",
    "data = pd.read_csv('P2_data.txt', sep=\"\\s+\",\n",
    "                   names=['test1', 'test2', 'submit'])\n",
    "\n",
    "# Shuffle the data randomly\n",
    "data = data.sample(frac=1, random_state=42)\n",
    "\n",
    "# Split the data into training and test sets\n",
    "train_data = data.iloc[:int(0.75*len(data)), :]\n",
    "test_data = data.iloc[int(0.75*len(data)):, :]\n",
    "\n",
    "# Print the number of samples in the training and test sets\n",
    "print(\"Number of samples in the training set: \", len(train_data))\n",
    "print(\"Number of samples in the test set: \", len(test_data))\n"
   ]
  },
  {
   "cell_type": "code",
   "execution_count": 3,
   "metadata": {},
   "outputs": [
    {
     "name": "stdout",
     "output_type": "stream",
     "text": [
      "Shpae of X_train:  (60, 3)\n",
      "Shpae of y_train:  (60,)\n"
     ]
    }
   ],
   "source": [
    "# (2)   Calculate the performance of your logistic regression model\n",
    "\n",
    "import numpy as np\n",
    "\n",
    "# Define the sigmoid function\n",
    "def sigmoid(z):\n",
    "    return 1 / (1 + np.exp(-z))\n",
    "\n",
    "# Define the logistic regression function\n",
    "def logistic_regression(X, theta):\n",
    "    return sigmoid(X @ theta)\n",
    "\n",
    "\n",
    "# Add a bias column to the training and test data\n",
    "train_data.insert(0, 'bias', 1)\n",
    "test_data.insert(0, 'bias', 1)\n",
    "\n",
    "# Extract the features and labels from the training and test data\n",
    "X_train = train_data[['bias', 'test1', 'test2']].values\n",
    "y_train = train_data['submit'].values\n",
    "X_test = test_data[['bias', 'test1', 'test2']].values\n",
    "y_test = test_data['submit'].values\n",
    "\n",
    "# Print the shape of the training and test sets\n",
    "print(\"Shpae of X_train: \", np.shape(X_train))\n",
    "print(\"Shpae of y_train: \", np.shape(y_train))\n"
   ]
  },
  {
   "cell_type": "code",
   "execution_count": 4,
   "metadata": {},
   "outputs": [
    {
     "name": "stdout",
     "output_type": "stream",
     "text": [
      "Accuracy: 50.00%\n",
      "Precision: nan%\n",
      "Recall: 0.00%\n",
      "F1 Score: nan%\n"
     ]
    },
    {
     "name": "stderr",
     "output_type": "stream",
     "text": [
      "d:\\Users\\Jaewon\\miniconda3\\lib\\site-packages\\ipykernel_launcher.py:23: RuntimeWarning: invalid value encountered in long_scalars\n"
     ]
    }
   ],
   "source": [
    "# Initialize the parameters for logistic regression\n",
    "theta = np.random.rand(X_train.shape[1])\n",
    "\n",
    "# Define the hyperparameters\n",
    "learning_rate = 0.001\n",
    "num_iterations = 10000\n",
    "lambda_reg = 0.0001\n",
    "\n",
    "# Train the logistic regression model using batch gradient descent with L2 regularization\n",
    "for i in range(num_iterations):\n",
    "    # Calculate the gradient with L2 regularization\n",
    "    reg_term = (lambda_reg / len(X_train)) * theta\n",
    "    reg_term[0] = 0\n",
    "    grad = (1 / len(X_train)) * X_train.T @ (logistic_regression(X_train, theta) - y_train) + reg_term\n",
    "    # Update the parameters\n",
    "    theta = theta - learning_rate * grad\n",
    "\n",
    "# Predict the labels for the test set\n",
    "y_pred = np.round(logistic_regression(X_test, theta))\n",
    "\n",
    "# Calculate the accuracy, precision, recall, and F1 score\n",
    "accuracy = np.mean(y_pred == y_test)\n",
    "precision = np.sum((y_pred == 1) & (y_test == 1)) / np.sum(y_pred == 1)\n",
    "recall = np.sum((y_pred == 1) & (y_test == 1)) / np.sum(y_test == 1)\n",
    "f1_score = 2 * precision * recall / (precision + recall)\n",
    "\n",
    "print(\"Accuracy: {:.2f}%\".format(accuracy * 100))\n",
    "print(\"Precision: {:.2f}%\".format(precision * 100))\n",
    "print(\"Recall: {:.2f}%\".format(recall * 100))\n",
    "print(\"F1 Score: {:.2f}%\".format(f1_score * 100))\n"
   ]
  },
  {
   "cell_type": "code",
   "execution_count": 5,
   "metadata": {},
   "outputs": [
    {
     "data": {
      "image/png": "[encoded data removed]",
      "text/plain": [
       "<Figure size 432x288 with 1 Axes>"
      ]
     },
     "metadata": {
      "needs_background": "light"
     },
     "output_type": "display_data"
    }
   ],
   "source": [
    "%matplotlib inline\n",
    "import matplotlib.pyplot as plt\n",
    "\n",
    "# Plot the training data\n",
    "plt.scatter(X_train[:, 1], X_train[:, 2], c=y_train)\n",
    "\n",
    "# Define the range of x and y values\n",
    "x_min, x_max = X_train[:, 1].min() - 1, X_train[:, 1].max() + 1\n",
    "y_min, y_max = X_train[:, 2].min() - 1, X_train[:, 2].max() + 1\n",
    "xx, yy = np.meshgrid(np.arange(x_min, x_max, 0.1),\n",
    "                     np.arange(y_min, y_max, 0.1))\n",
    "\n",
    "# Create a meshgrid of the feature space and predict the output for each point\n",
    "Z = np.round(logistic_regression(np.c_[np.ones((xx.ravel().shape[0], 1)), xx.ravel(), yy.ravel()], theta))\n",
    "Z = Z.reshape(xx.shape)\n",
    "\n",
    "# Plot the decision boundary\n",
    "plt.contourf(xx, yy, Z, alpha=0.3)\n",
    "\n",
    "# Set the axis labels and title\n",
    "plt.xlabel('Test 1')\n",
    "plt.ylabel('Test 2')\n",
    "plt.title('Decision Boundary')\n",
    "\n",
    "# Show the plot\n",
    "plt.show()\n"
   ]
  },
  {
   "cell_type": "code",
   "execution_count": 6,
   "metadata": {},
   "outputs": [
    {
     "name": "stdout",
     "output_type": "stream",
     "text": [
      "Prediction for (49.5, 55.0):  Admitted\n",
      "Prediction for (43.0, 74.0):  Not Admitted\n",
      "Prediction for (33.5, 70.5):  Not Admitted\n",
      "Prediction for (30.0, 78.0):  Not Admitted\n"
     ]
    }
   ],
   "source": [
    "# (3) Using the best model, predict whether the students with following scores will be admitted or not:\n",
    "\n",
    "# Preprocess the input data\n",
    "X_pred = np.array([[1, 49.5, 55.0],\n",
    "                   [1, 43.0, 74.0],\n",
    "                   [1, 33.5, 70.5],\n",
    "                   [1, 30.0, 78.0]])\n",
    "\n",
    "# Make predictions using the trained model\n",
    "y_pred = np.round(logistic_regression(X_pred, theta))\n",
    "\n",
    "# Print the predictions\n",
    "print(\"Prediction for (49.5, 55.0): \", \"Admitted\" if y_pred[0] == 1 else \"Not Admitted\")\n",
    "print(\"Prediction for (43.0, 74.0): \", \"Admitted\" if y_pred[1] == 1 else \"Not Admitted\")\n",
    "print(\"Prediction for (33.5, 70.5): \", \"Admitted\" if y_pred[2] == 1 else \"Not Admitted\")\n",
    "print(\"Prediction for (30.0, 78.0): \", \"Admitted\" if y_pred[3] == 1 else \"Not Admitted\")"
   ]
  }
 ],
 "metadata": {
  "kernelspec": {
   "display_name": "base",
   "language": "python",
   "name": "python3"
  },
  "language_info": {
   "codemirror_mode": {
    "name": "ipython",
    "version": 3
   },
   "file_extension": ".py",
   "mimetype": "text/x-python",
   "name": "python",
   "nbconvert_exporter": "python",
   "pygments_lexer": "ipython3",
   "version": "3.7.10"
  },
  "orig_nbformat": 4
 },
 "nbformat": 4,
 "nbformat_minor": 2
}
